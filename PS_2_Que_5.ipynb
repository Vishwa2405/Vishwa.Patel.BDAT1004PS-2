{
  "nbformat": 4,
  "nbformat_minor": 0,
  "metadata": {
    "colab": {
      "provenance": []
    },
    "kernelspec": {
      "name": "python3",
      "display_name": "Python 3"
    },
    "language_info": {
      "name": "python"
    }
  },
  "cells": [
    {
      "cell_type": "markdown",
      "source": [
        "<b>Question 5:</b> Write a recursive method binary() that takes a non-negative integer n and prints the binary representation of integer n.\n",
        "> binary(0)\n",
        "\n",
        "0\n",
        ">binary(1)\n",
        "\n",
        "1\n",
        ">binary(3)\n",
        "\n",
        "11\n",
        ">binary(9)\n",
        "\n",
        "1001"
      ],
      "metadata": {
        "id": "IewNAd3THIoP"
      }
    },
    {
      "cell_type": "code",
      "execution_count": null,
      "metadata": {
        "colab": {
          "base_uri": "https://localhost:8080/"
        },
        "id": "v4M_twAXHCOK",
        "outputId": "16dfc692-7386-44aa-9a55-5d4aef2a98a1"
      },
      "outputs": [
        {
          "output_type": "stream",
          "name": "stdout",
          "text": [
            "binary(0): 0\n",
            "binary(1): 1\n",
            "binary(3): 11\n",
            "binary(9): 1001"
          ]
        }
      ],
      "source": [
        "def binary(n):\n",
        "\n",
        "    if n == 0 or n == 1:\n",
        "        print(n, end='')\n",
        "    else:\n",
        "        binary(n // 2)\n",
        "        print(n % 2, end='')\n",
        "\n",
        "print(\"binary(0): \", end='')\n",
        "binary(0)\n",
        "print(\"\\nbinary(1): \", end='')\n",
        "binary(1)\n",
        "print(\"\\nbinary(3): \", end='')\n",
        "binary(3)\n",
        "print(\"\\nbinary(9): \", end='')\n",
        "binary(9)"
      ]
    }
  ]
}