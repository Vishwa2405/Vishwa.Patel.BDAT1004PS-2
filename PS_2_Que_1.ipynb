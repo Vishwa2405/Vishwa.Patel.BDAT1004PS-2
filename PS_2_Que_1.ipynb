{
  "nbformat": 4,
  "nbformat_minor": 0,
  "metadata": {
    "colab": {
      "provenance": []
    },
    "kernelspec": {
      "name": "python3",
      "display_name": "Python 3"
    },
    "language_info": {
      "name": "python"
    }
  },
  "cells": [
    {
      "cell_type": "markdown",
      "source": [
        "<b>Question 1:</b>\n",
        "Consider the following Python module:\n",
        "a = 0<br>\n",
        "def b():<br>\n",
        "global a<br>\n",
        "a = c(a)<br>\n",
        "def c(a):<br>\n",
        "return a + 2<br>\n",
        "After importing the module into the interpreter, you execute:\n",
        "> b() <br>\n",
        "b()<br>\n",
        "b()<br>\n",
        "a\n",
        "\n",
        "What value is displayed when the last expression (a) is evaluated? Explain your answer by indicating what happens in every executed statement."
      ],
      "metadata": {
        "id": "aDL9L4p56wqx"
      }
    },
    {
      "cell_type": "code",
      "execution_count": null,
      "metadata": {
        "colab": {
          "base_uri": "https://localhost:8080/"
        },
        "id": "grIeZawT6mzC",
        "outputId": "13abc080-be8b-4831-87c4-56cd810c6a15"
      },
      "outputs": [
        {
          "output_type": "stream",
          "name": "stdout",
          "text": [
            "6\n"
          ]
        }
      ],
      "source": [
        "a = 0\n",
        "\n",
        "def b():\n",
        "    global a\n",
        "    a = c(a)\n",
        "\n",
        "def c(a):\n",
        "    return a + 2\n",
        "\n",
        "# 1st call to function\n",
        "b()\n",
        "\n",
        "# 2nd call to function\n",
        "b()\n",
        "\n",
        "# 3rd call to function\n",
        "b()\n",
        "\n",
        "# Output after above function calls\n",
        "print(a)"
      ]
    }
  ]
}