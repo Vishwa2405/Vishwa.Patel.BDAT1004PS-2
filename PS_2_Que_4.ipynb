{
  "nbformat": 4,
  "nbformat_minor": 0,
  "metadata": {
    "colab": {
      "provenance": []
    },
    "kernelspec": {
      "name": "python3",
      "display_name": "Python 3"
    },
    "language_info": {
      "name": "python"
    }
  },
  "cells": [
    {
      "cell_type": "markdown",
      "source": [
        "<b>Question 4:</b>\n",
        "Write function collatz() that takes a positive integer x as input and prints the Collatz sequence starting at x. A Collatz sequence is obtained by repeatedly applying this rule to the previous number x in the sequence:\n",
        "\n",
        "![Screenshot (335).png](data:image/png;base64,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)\n",
        "\n",
        "Your function should stop when the sequence gets to number 1. Your implementation must be recursive, without any loops.\n",
        "\n",
        "> collatz(1)<br>\n",
        "\n",
        "output: 1\n",
        "> collatz(10)<br>\n",
        "\n",
        "output:<br>\n",
        "10<br>\n",
        "5<br>\n",
        "16<br>\n",
        "8<br>\n",
        "4<br>\n",
        "2<br>\n",
        "1"
      ],
      "metadata": {
        "id": "974Qs2YQD1zA"
      }
    },
    {
      "cell_type": "code",
      "execution_count": null,
      "metadata": {
        "colab": {
          "base_uri": "https://localhost:8080/"
        },
        "id": "OWePijvsDyNJ",
        "outputId": "efea916d-1767-42c3-c0ec-37c591d7e074"
      },
      "outputs": [
        {
          "output_type": "stream",
          "name": "stdout",
          "text": [
            "1\n"
          ]
        }
      ],
      "source": [
        "def collatz(x):\n",
        "    print(x)\n",
        "    # if x is 1, it only returns 1 and stops\n",
        "    if x == 1:\n",
        "        return\n",
        "    # if even x then the function calls itself with x/2\n",
        "    elif x % 2 == 0:\n",
        "        return collatz(x // 2)\n",
        "    # if odd x: the function calls itself with 3x+1\n",
        "    else:\n",
        "        return collatz(3 * x + 1)\n",
        "\n",
        "collatz(1)"
      ]
    },
    {
      "cell_type": "code",
      "source": [
        "collatz(10)"
      ],
      "metadata": {
        "colab": {
          "base_uri": "https://localhost:8080/"
        },
        "id": "RlhuToVtEhEE",
        "outputId": "0624e5ea-2305-4cc3-a6b5-dfc76db21689"
      },
      "execution_count": null,
      "outputs": [
        {
          "output_type": "stream",
          "name": "stdout",
          "text": [
            "10\n",
            "5\n",
            "16\n",
            "8\n",
            "4\n",
            "2\n",
            "1\n"
          ]
        }
      ]
    }
  ]
}